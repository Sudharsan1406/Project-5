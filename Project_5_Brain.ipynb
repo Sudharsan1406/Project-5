{
  "nbformat": 4,
  "nbformat_minor": 0,
  "metadata": {
    "colab": {
      "provenance": [],
      "collapsed_sections": [
        "_UY51vGV2DdP",
        "QyF9a2nm3t7O",
        "sQPKfA5Z34EF",
        "3c9677q54QsV",
        "30P8VulC4Zy-",
        "sLG9wZRj4i0w",
        "HgLF7QIY6Cuj",
        "akq0VTXV7S_1",
        "RsLYSERD8JP_"
      ],
      "gpuType": "T4",
      "authorship_tag": "ABX9TyNsgtR2PCpXy4eQvZyVl6WA",
      "include_colab_link": true
    },
    "kernelspec": {
      "name": "python3",
      "display_name": "Python 3"
    },
    "language_info": {
      "name": "python"
    },
    "accelerator": "GPU"
  },
  "cells": [
    {
      "cell_type": "markdown",
      "metadata": {
        "id": "view-in-github",
        "colab_type": "text"
      },
      "source": [
        "<a href=\"https://colab.research.google.com/github/Sudharsan1406/Project-5/blob/main/Project_5_Brain.ipynb\" target=\"_parent\"><img src=\"https://colab.research.google.com/assets/colab-badge.svg\" alt=\"Open In Colab\"/></a>"
      ]
    },
    {
      "cell_type": "code",
      "execution_count": null,
      "metadata": {
        "colab": {
          "base_uri": "https://localhost:8080/"
        },
        "id": "zz5fUbe2r1Jn",
        "outputId": "6bd05c6c-1a2d-488f-d689-50f0ac2e4c08"
      },
      "outputs": [
        {
          "output_type": "stream",
          "name": "stdout",
          "text": [
            "Mounted at /content/drive\n"
          ]
        }
      ],
      "source": [
        "from google.colab import drive\n",
        "drive.mount('/content/drive')"
      ]
    },
    {
      "cell_type": "markdown",
      "source": [
        "# **✅ 1. Understand the Dataset**"
      ],
      "metadata": {
        "id": "X8TO5i4Y1UYr"
      }
    },
    {
      "cell_type": "code",
      "source": [
        "import os\n",
        "import matplotlib.pyplot as plt\n",
        "import seaborn as sns\n",
        "\n",
        "base_path = \"/content/drive/MyDrive/Project 5/train\"\n",
        "categories = ['glioma', 'meningioma', 'no_tumor', 'pituitary']\n",
        "class_counts = {}\n",
        "\n",
        "for category in categories:\n",
        "    class_path = os.path.join(base_path, category)\n",
        "    class_counts[category] = len(os.listdir(class_path))\n",
        "\n",
        "# Barplot\n",
        "sns.barplot(x=list(class_counts.keys()), y=list(class_counts.values()))\n",
        "plt.title(\"Image Count per Class\")\n",
        "plt.ylabel(\"Number of Images\")\n",
        "plt.xlabel(\"Tumor Type\")\n",
        "plt.show()"
      ],
      "metadata": {
        "colab": {
          "base_uri": "https://localhost:8080/",
          "height": 472
        },
        "id": "NzVIymj3sScx",
        "outputId": "fc78acd8-1b4c-4ed4-bb4e-f21a925bd8ba"
      },
      "execution_count": null,
      "outputs": [
        {
          "output_type": "display_data",
          "data": {
            "text/plain": [
              "<Figure size 640x480 with 1 Axes>"
            ],
            "image/png": "[encoded data removed]"
          },
          "metadata": {}
        }
      ]
    },
    {
      "cell_type": "markdown",
      "source": [
        "# **✅ 2. Data Preprocessing & Augmentation**"
      ],
      "metadata": {
        "id": "SaIMh2XF1b3c"
      }
    },
    {
      "cell_type": "code",
      "source": [
        "from tensorflow.keras.preprocessing.image import ImageDataGenerator\n",
        "\n",
        "IMG_SIZE = (224, 224)\n",
        "BATCH_SIZE = 32\n",
        "\n",
        "train_path = \"/content/drive/MyDrive/Project 5/train\"\n",
        "valid_path = \"/content/drive/MyDrive/Project 5/valid\"\n",
        "test_path  = \"/content/drive/MyDrive/Project 5/test\"\n",
        "\n",
        "train_datagen = ImageDataGenerator(\n",
        "    rescale=1./255,\n",
        "    rotation_range=30,\n",
        "    zoom_range=0.2,\n",
        "    width_shift_range=0.2,\n",
        "    height_shift_range=0.2,\n",
        "    horizontal_flip=True,\n",
        "    shear_range=0.2\n",
        ")\n",
        "\n",
        "val_test_datagen = ImageDataGenerator(rescale=1./255)\n"
      ],
      "metadata": {
        "id": "ptNs4VhFsSZR"
      },
      "execution_count": null,
      "outputs": []
    },
    {
      "cell_type": "code",
      "source": [
        "\n",
        "train_data = train_datagen.flow_from_directory(\n",
        "    train_path, target_size=IMG_SIZE, batch_size=BATCH_SIZE, class_mode='categorical')\n",
        "\n",
        "val_data = val_test_datagen.flow_from_directory(\n",
        "    valid_path, target_size=IMG_SIZE, batch_size=BATCH_SIZE, class_mode='categorical')\n",
        "\n",
        "test_data = val_test_datagen.flow_from_directory(\n",
        "    test_path, target_size=IMG_SIZE, batch_size=BATCH_SIZE, class_mode='categorical', shuffle=False)"
      ],
      "metadata": {
        "colab": {
          "base_uri": "https://localhost:8080/"
        },
        "id": "fkc2Mo9h2nhy",
        "outputId": "dd8dce57-e501-4424-de7e-200026e8725e"
      },
      "execution_count": null,
      "outputs": [
        {
          "output_type": "stream",
          "name": "stdout",
          "text": [
            "Found 1705 images belonging to 4 classes.\n",
            "Found 502 images belonging to 4 classes.\n",
            "Found 246 images belonging to 4 classes.\n"
          ]
        }
      ]
    },
    {
      "cell_type": "markdown",
      "source": [
        "# **✅ 3. Custom CNN Model Building**"
      ],
      "metadata": {
        "id": "PuFQAzXi1i9M"
      }
    },
    {
      "cell_type": "code",
      "source": [
        "from tensorflow.keras.models import Sequential\n",
        "from tensorflow.keras.layers import Conv2D, MaxPooling2D, Flatten, Dense, Dropout, BatchNormalization, GlobalAveragePooling2D\n",
        "import tensorflow as tf\n",
        "\n",
        "model = Sequential([\n",
        "    Conv2D(32, (3,3), activation='relu', padding='same', input_shape=(224, 224, 3)),\n",
        "    BatchNormalization(),\n",
        "    MaxPooling2D(2,2),\n",
        "\n",
        "    Conv2D(64, (3,3), activation='relu', padding='same'),\n",
        "    BatchNormalization(),\n",
        "    Dropout(0.3),\n",
        "    MaxPooling2D(2,2),\n",
        "\n",
        "    Conv2D(128, (3,3), activation='relu', padding='same'),\n",
        "    BatchNormalization(),\n",
        "    Dropout(0.3),\n",
        "    MaxPooling2D(2,2),\n",
        "\n",
        "    GlobalAveragePooling2D(),\n",
        "\n",
        "    Dense(256, activation='relu', kernel_regularizer=tf.keras.regularizers.l2(0.01)),\n",
        "    Dropout(0.5),\n",
        "    Dense(128, activation='relu', kernel_regularizer=tf.keras.regularizers.l2(0.01)),\n",
        "    Dropout(0.3),\n",
        "    Dense(4, activation='softmax')\n",
        "])\n"
      ],
      "metadata": {
        "colab": {
          "base_uri": "https://localhost:8080/"
        },
        "id": "GgSRq40bsSTK",
        "outputId": "123fa08f-38c0-4b7d-cc2a-bb5161138f42"
      },
      "execution_count": null,
      "outputs": [
        {
          "output_type": "stream",
          "name": "stderr",
          "text": [
            "/usr/local/lib/python3.11/dist-packages/keras/src/layers/convolutional/base_conv.py:107: UserWarning: Do not pass an `input_shape`/`input_dim` argument to a layer. When using Sequential models, prefer using an `Input(shape)` object as the first layer in the model instead.\n",
            "  super().__init__(activity_regularizer=activity_regularizer, **kwargs)\n"
          ]
        }
      ]
    },
    {
      "cell_type": "markdown",
      "source": [
        "## **Compile & Train Model**"
      ],
      "metadata": {
        "id": "7Jp4VY6S1nGM"
      }
    },
    {
      "cell_type": "code",
      "source": [
        "from tensorflow.keras.callbacks import EarlyStopping, ModelCheckpoint\n",
        "\n",
        "model.compile(optimizer='adam', loss='categorical_crossentropy', metrics=['accuracy'])\n",
        "\n",
        "early_stop = EarlyStopping(monitor='val_loss', patience=5, restore_best_weights=True)\n",
        "checkpoint = ModelCheckpoint(\"custom_cnn.h5\", monitor='val_accuracy', save_best_only=True)\n",
        "\n",
        "history = model.fit(train_data, validation_data=val_data, epochs=20, callbacks=[early_stop, checkpoint])\n"
      ],
      "metadata": {
        "colab": {
          "base_uri": "https://localhost:8080/"
        },
        "id": "Ia-CthKOsSIb",
        "outputId": "db40d63c-4278-49b6-f35d-2ee068decbe7"
      },
      "execution_count": null,
      "outputs": [
        {
          "output_type": "stream",
          "name": "stderr",
          "text": [
            "/usr/local/lib/python3.11/dist-packages/keras/src/trainers/data_adapters/py_dataset_adapter.py:121: UserWarning: Your `PyDataset` class should call `super().__init__(**kwargs)` in its constructor. `**kwargs` can include `workers`, `use_multiprocessing`, `max_queue_size`. Do not pass these arguments to `fit()`, as they will be ignored.\n",
            "  self._warn_if_super_not_called()\n"
          ]
        },
        {
          "output_type": "stream",
          "name": "stdout",
          "text": [
            "Epoch 1/20\n",
            "\u001b[1m54/54\u001b[0m \u001b[32m━━━━━━━━━━━━━━━━━━━━\u001b[0m\u001b[37m\u001b[0m \u001b[1m0s\u001b[0m 6s/step - accuracy: 0.4683 - loss: 4.2398"
          ]
        },
        {
          "output_type": "stream",
          "name": "stderr",
          "text": [
            "/usr/local/lib/python3.11/dist-packages/keras/src/trainers/data_adapters/py_dataset_adapter.py:121: UserWarning: Your `PyDataset` class should call `super().__init__(**kwargs)` in its constructor. `**kwargs` can include `workers`, `use_multiprocessing`, `max_queue_size`. Do not pass these arguments to `fit()`, as they will be ignored.\n",
            "  self._warn_if_super_not_called()\n",
            "WARNING:absl:You are saving your model as an HDF5 file via `model.save()` or `keras.saving.save_model(model)`. This file format is considered legacy. We recommend using instead the native Keras format, e.g. `model.save('my_model.keras')` or `keras.saving.save_model(model, 'my_model.keras')`. \n"
          ]
        },
        {
          "output_type": "stream",
          "name": "stdout",
          "text": [
            "\b\b\b\b\b\b\b\b\b\b\b\b\b\b\b\b\b\b\b\b\b\b\b\b\b\b\b\b\b\b\b\b\b\b\b\b\b\b\b\b\b\b\b\b\b\b\b\b\b\b\b\b\b\b\b\b\b\b\b\b\b\b\b\b\b\b\b\b\b\b\b\r\u001b[1m54/54\u001b[0m \u001b[32m━━━━━━━━━━━━━━━━━━━━\u001b[0m\u001b[37m\u001b[0m \u001b[1m532s\u001b[0m 10s/step - accuracy: 0.4698 - loss: 4.2302 - val_accuracy: 0.5239 - val_loss: 3.4543\n",
            "Epoch 2/20\n",
            "\u001b[1m54/54\u001b[0m \u001b[32m━━━━━━━━━━━━━━━━━━━━\u001b[0m\u001b[37m\u001b[0m \u001b[1m30s\u001b[0m 556ms/step - accuracy: 0.6504 - loss: 2.7643 - val_accuracy: 0.2351 - val_loss: 3.6759\n",
            "Epoch 3/20\n",
            "\u001b[1m54/54\u001b[0m \u001b[32m━━━━━━━━━━━━━━━━━━━━\u001b[0m\u001b[37m\u001b[0m \u001b[1m42s\u001b[0m 574ms/step - accuracy: 0.6975 - loss: 2.1004 - val_accuracy: 0.2351 - val_loss: 6.8239\n",
            "Epoch 4/20\n",
            "\u001b[1m54/54\u001b[0m \u001b[32m━━━━━━━━━━━━━━━━━━━━\u001b[0m\u001b[37m\u001b[0m \u001b[1m30s\u001b[0m 554ms/step - accuracy: 0.7479 - loss: 1.6865 - val_accuracy: 0.2351 - val_loss: 9.3028\n",
            "Epoch 5/20\n",
            "\u001b[1m54/54\u001b[0m \u001b[32m━━━━━━━━━━━━━━━━━━━━\u001b[0m\u001b[37m\u001b[0m \u001b[1m30s\u001b[0m 558ms/step - accuracy: 0.7300 - loss: 1.4733 - val_accuracy: 0.2351 - val_loss: 10.9817\n",
            "Epoch 6/20\n",
            "\u001b[1m54/54\u001b[0m \u001b[32m━━━━━━━━━━━━━━━━━━━━\u001b[0m\u001b[37m\u001b[0m \u001b[1m30s\u001b[0m 555ms/step - accuracy: 0.7452 - loss: 1.2563 - val_accuracy: 0.2351 - val_loss: 10.9973\n"
          ]
        }
      ]
    },
    {
      "cell_type": "markdown",
      "source": [
        "## **Classification Report**"
      ],
      "metadata": {
        "id": "Kb_ugQfG1uiF"
      }
    },
    {
      "cell_type": "code",
      "source": [
        "from sklearn.metrics import classification_report, confusion_matrix\n",
        "import seaborn as sns\n",
        "import numpy as np\n",
        "\n",
        "y_pred = model.predict(test_data)\n",
        "y_pred_classes = np.argmax(y_pred, axis=1)\n",
        "y_true = test_data.classes\n",
        "class_labels = list(test_data.class_indices.keys())\n",
        "\n",
        "print(classification_report(y_true, y_pred_classes, target_names=class_labels))\n",
        "\n",
        "\n",
        "# Confusion matrix\n",
        "cm = confusion_matrix(y_true, y_pred_classes)\n",
        "plt.figure(figsize=(8,6))\n",
        "sns.heatmap(cm, annot=True, fmt='d', xticklabels=class_labels, yticklabels=class_labels, cmap='Blues')\n",
        "plt.xlabel('Predicted')\n",
        "plt.ylabel('True')\n",
        "plt.title('Confusion Matrix')\n",
        "plt.show()"
      ],
      "metadata": {
        "colab": {
          "base_uri": "https://localhost:8080/",
          "height": 949
        },
        "id": "HJtKSX9BsSC8",
        "outputId": "ab7b48e5-3dc9-4555-dc36-57fa9025c31d"
      },
      "execution_count": null,
      "outputs": [
        {
          "output_type": "stream",
          "name": "stderr",
          "text": [
            "/usr/local/lib/python3.11/dist-packages/keras/src/trainers/data_adapters/py_dataset_adapter.py:121: UserWarning: Your `PyDataset` class should call `super().__init__(**kwargs)` in its constructor. `**kwargs` can include `workers`, `use_multiprocessing`, `max_queue_size`. Do not pass these arguments to `fit()`, as they will be ignored.\n",
            "  self._warn_if_super_not_called()\n"
          ]
        },
        {
          "output_type": "stream",
          "name": "stdout",
          "text": [
            "\u001b[1m8/8\u001b[0m \u001b[32m━━━━━━━━━━━━━━━━━━━━\u001b[0m\u001b[37m\u001b[0m \u001b[1m63s\u001b[0m 9s/step\n",
            "              precision    recall  f1-score   support\n",
            "\n",
            "      glioma       0.63      0.97      0.77        80\n",
            "  meningioma       0.00      0.00      0.00        63\n",
            "    no_tumor       0.00      0.00      0.00        49\n",
            "   pituitary       0.41      0.93      0.56        54\n",
            "\n",
            "    accuracy                           0.52       246\n",
            "   macro avg       0.26      0.48      0.33       246\n",
            "weighted avg       0.30      0.52      0.37       246\n",
            "\n"
          ]
        },
        {
          "output_type": "stream",
          "name": "stderr",
          "text": [
            "/usr/local/lib/python3.11/dist-packages/sklearn/metrics/_classification.py:1565: UndefinedMetricWarning: Precision is ill-defined and being set to 0.0 in labels with no predicted samples. Use `zero_division` parameter to control this behavior.\n",
            "  _warn_prf(average, modifier, f\"{metric.capitalize()} is\", len(result))\n",
            "/usr/local/lib/python3.11/dist-packages/sklearn/metrics/_classification.py:1565: UndefinedMetricWarning: Precision is ill-defined and being set to 0.0 in labels with no predicted samples. Use `zero_division` parameter to control this behavior.\n",
            "  _warn_prf(average, modifier, f\"{metric.capitalize()} is\", len(result))\n",
            "/usr/local/lib/python3.11/dist-packages/sklearn/metrics/_classification.py:1565: UndefinedMetricWarning: Precision is ill-defined and being set to 0.0 in labels with no predicted samples. Use `zero_division` parameter to control this behavior.\n",
            "  _warn_prf(average, modifier, f\"{metric.capitalize()} is\", len(result))\n"
          ]
        },
        {
          "output_type": "display_data",
          "data": {
            "text/plain": [
              "<Figure size 800x600 with 2 Axes>"
            ],
            "image/png": "[encoded data removed]"
          },
          "metadata": {}
        }
      ]
    },
    {
      "cell_type": "markdown",
      "source": [
        "🔍 What This Tells Us ...\n",
        "\n",
        "✅ Good performance on:\n",
        "\n",
        "Glioma: High recall (0.97), good precision (0.63)\n",
        "\n",
        "Pituitary: High recall (0.93), but lower precision (0.41)\n",
        "\n",
        "❌ Very poor performance on:\n",
        "\n",
        "Meningioma & No_tumor: Precision, recall, F1 = 0"
      ],
      "metadata": {
        "id": "5CjpU8Mn16Lo"
      }
    },
    {
      "cell_type": "markdown",
      "source": [
        "## **Add Class Weights (to Custom CNN)**"
      ],
      "metadata": {
        "id": "_UY51vGV2DdP"
      }
    },
    {
      "cell_type": "code",
      "source": [
        "from sklearn.utils import class_weight\n",
        "import numpy as np\n",
        "\n",
        "# Get class weights\n",
        "class_weights = class_weight.compute_class_weight(\n",
        "    class_weight='balanced',\n",
        "    classes=np.unique(test_data.classes),\n",
        "    y=test_data.classes\n",
        ")\n",
        "class_weights_dict = dict(enumerate(class_weights))\n",
        "\n",
        "# Then in model.fit:\n",
        "model.fit(\n",
        "    train_data,\n",
        "    validation_data=val_data,\n",
        "    epochs=15,\n",
        "    class_weight=class_weights_dict\n",
        ")\n"
      ],
      "metadata": {
        "colab": {
          "base_uri": "https://localhost:8080/"
        },
        "id": "XtkDyJxxsR5Z",
        "outputId": "863a712a-472d-4233-adc8-6286e60f9074"
      },
      "execution_count": null,
      "outputs": [
        {
          "output_type": "stream",
          "name": "stdout",
          "text": [
            "Epoch 1/15\n",
            "\u001b[1m54/54\u001b[0m \u001b[32m━━━━━━━━━━━━━━━━━━━━\u001b[0m\u001b[37m\u001b[0m \u001b[1m42s\u001b[0m 628ms/step - accuracy: 0.6672 - loss: 2.7524 - val_accuracy: 0.2351 - val_loss: 3.1803\n",
            "Epoch 2/15\n",
            "\u001b[1m54/54\u001b[0m \u001b[32m━━━━━━━━━━━━━━━━━━━━\u001b[0m\u001b[37m\u001b[0m \u001b[1m33s\u001b[0m 607ms/step - accuracy: 0.7176 - loss: 2.0241 - val_accuracy: 0.4622 - val_loss: 2.8284\n",
            "Epoch 3/15\n",
            "\u001b[1m54/54\u001b[0m \u001b[32m━━━━━━━━━━━━━━━━━━━━\u001b[0m\u001b[37m\u001b[0m \u001b[1m30s\u001b[0m 557ms/step - accuracy: 0.7074 - loss: 1.7094 - val_accuracy: 0.5139 - val_loss: 2.9071\n",
            "Epoch 4/15\n",
            "\u001b[1m54/54\u001b[0m \u001b[32m━━━━━━━━━━━━━━━━━━━━\u001b[0m\u001b[37m\u001b[0m \u001b[1m30s\u001b[0m 565ms/step - accuracy: 0.6713 - loss: 1.5138 - val_accuracy: 0.5458 - val_loss: 2.8067\n",
            "Epoch 5/15\n",
            "\u001b[1m54/54\u001b[0m \u001b[32m━━━━━━━━━━━━━━━━━━━━\u001b[0m\u001b[37m\u001b[0m \u001b[1m37s\u001b[0m 695ms/step - accuracy: 0.7071 - loss: 1.3187 - val_accuracy: 0.2809 - val_loss: 3.6425\n",
            "Epoch 6/15\n",
            "\u001b[1m54/54\u001b[0m \u001b[32m━━━━━━━━━━━━━━━━━━━━\u001b[0m\u001b[37m\u001b[0m \u001b[1m30s\u001b[0m 561ms/step - accuracy: 0.7251 - loss: 1.1684 - val_accuracy: 0.3147 - val_loss: 4.1669\n",
            "Epoch 7/15\n",
            "\u001b[1m54/54\u001b[0m \u001b[32m━━━━━━━━━━━━━━━━━━━━\u001b[0m\u001b[37m\u001b[0m \u001b[1m32s\u001b[0m 594ms/step - accuracy: 0.7155 - loss: 1.0770 - val_accuracy: 0.2829 - val_loss: 7.4711\n",
            "Epoch 8/15\n",
            "\u001b[1m54/54\u001b[0m \u001b[32m━━━━━━━━━━━━━━━━━━━━\u001b[0m\u001b[37m\u001b[0m \u001b[1m31s\u001b[0m 580ms/step - accuracy: 0.7429 - loss: 1.0078 - val_accuracy: 0.3267 - val_loss: 4.4539\n",
            "Epoch 9/15\n",
            "\u001b[1m54/54\u001b[0m \u001b[32m━━━━━━━━━━━━━━━━━━━━\u001b[0m\u001b[37m\u001b[0m \u001b[1m31s\u001b[0m 571ms/step - accuracy: 0.7446 - loss: 0.9286 - val_accuracy: 0.3446 - val_loss: 5.3613\n",
            "Epoch 10/15\n",
            "\u001b[1m54/54\u001b[0m \u001b[32m━━━━━━━━━━━━━━━━━━━━\u001b[0m\u001b[37m\u001b[0m \u001b[1m41s\u001b[0m 579ms/step - accuracy: 0.7753 - loss: 0.8708 - val_accuracy: 0.3287 - val_loss: 3.4986\n",
            "Epoch 11/15\n",
            "\u001b[1m54/54\u001b[0m \u001b[32m━━━━━━━━━━━━━━━━━━━━\u001b[0m\u001b[37m\u001b[0m \u001b[1m30s\u001b[0m 561ms/step - accuracy: 0.7763 - loss: 0.7973 - val_accuracy: 0.2869 - val_loss: 7.6703\n",
            "Epoch 12/15\n",
            "\u001b[1m54/54\u001b[0m \u001b[32m━━━━━━━━━━━━━━━━━━━━\u001b[0m\u001b[37m\u001b[0m \u001b[1m30s\u001b[0m 563ms/step - accuracy: 0.7560 - loss: 0.8001 - val_accuracy: 0.2948 - val_loss: 10.7672\n",
            "Epoch 13/15\n",
            "\u001b[1m54/54\u001b[0m \u001b[32m━━━━━━━━━━━━━━━━━━━━\u001b[0m\u001b[37m\u001b[0m \u001b[1m33s\u001b[0m 610ms/step - accuracy: 0.7631 - loss: 0.7895 - val_accuracy: 0.3247 - val_loss: 5.4980\n",
            "Epoch 14/15\n",
            "\u001b[1m54/54\u001b[0m \u001b[32m━━━━━━━━━━━━━━━━━━━━\u001b[0m\u001b[37m\u001b[0m \u001b[1m30s\u001b[0m 560ms/step - accuracy: 0.7699 - loss: 0.7620 - val_accuracy: 0.3446 - val_loss: 4.6063\n",
            "Epoch 15/15\n",
            "\u001b[1m54/54\u001b[0m \u001b[32m━━━━━━━━━━━━━━━━━━━━\u001b[0m\u001b[37m\u001b[0m \u001b[1m33s\u001b[0m 616ms/step - accuracy: 0.7864 - loss: 0.6887 - val_accuracy: 0.1972 - val_loss: 6.4904\n"
          ]
        },
        {
          "output_type": "execute_result",
          "data": {
            "text/plain": [
              "<keras.src.callbacks.history.History at 0x7903b04c2ed0>"
            ]
          },
          "metadata": {},
          "execution_count": 8
        }
      ]
    },
    {
      "cell_type": "markdown",
      "source": [
        "***Interpretation:***\n",
        "\n",
        "This is a classic case of overfitting:\n",
        "\n",
        "Your model learns the training data well (78% accuracy)\n",
        "\n",
        "But performs very poorly on validation (only 19%)\n",
        "\n",
        "The validation loss is very high, meaning it's making highly uncertain and wrong predictions on unseen data"
      ],
      "metadata": {
        "id": "b2Ebybdw2OQH"
      }
    },
    {
      "cell_type": "markdown",
      "source": [
        "# **✅ 4. Transfer Learning with MobileNetV2**"
      ],
      "metadata": {
        "id": "1bAxuswi3WOM"
      }
    },
    {
      "cell_type": "markdown",
      "source": [
        "## **✅ Step 1: import Required Libraries**"
      ],
      "metadata": {
        "id": "QyF9a2nm3t7O"
      }
    },
    {
      "cell_type": "code",
      "source": [
        "import tensorflow as tf\n",
        "from tensorflow.keras.applications import MobileNetV2\n",
        "from tensorflow.keras.models import Model\n",
        "from tensorflow.keras.layers import GlobalAveragePooling2D, Dense, Dropout\n",
        "from tensorflow.keras.preprocessing.image import ImageDataGenerator\n",
        "from tensorflow.keras.callbacks import EarlyStopping, ModelCheckpoint"
      ],
      "metadata": {
        "id": "2JSJ6DrDsRwz"
      },
      "execution_count": null,
      "outputs": []
    },
    {
      "cell_type": "markdown",
      "source": [
        "## **✅ Step 2: Setup Image Data Generators**"
      ],
      "metadata": {
        "id": "sQPKfA5Z34EF"
      }
    },
    {
      "cell_type": "code",
      "source": [
        "IMG_SIZE = (224, 224)\n",
        "BATCH_SIZE = 32\n",
        "\n",
        "train_path = \"/content/drive/MyDrive/Project 5/train\"\n",
        "valid_path = \"/content/drive/MyDrive/Project 5/valid\"\n",
        "test_path  = \"/content/drive/MyDrive/Project 5/test\"\n",
        "\n",
        "train_datagen = ImageDataGenerator(\n",
        "    rescale=1./255,\n",
        "    rotation_range=30,\n",
        "    zoom_range=0.2,\n",
        "    width_shift_range=0.2,\n",
        "    height_shift_range=0.2,\n",
        "    horizontal_flip=True,\n",
        "    fill_mode='nearest'\n",
        ")\n",
        "\n",
        "val_test_datagen = ImageDataGenerator(rescale=1./255)"
      ],
      "metadata": {
        "id": "SBDu7wf-sRtZ"
      },
      "execution_count": null,
      "outputs": []
    },
    {
      "cell_type": "code",
      "source": [
        "train_data = train_datagen.flow_from_directory(\n",
        "    train_path, target_size=IMG_SIZE, batch_size=BATCH_SIZE, class_mode='categorical'\n",
        ")\n",
        "\n",
        "val_data = val_test_datagen.flow_from_directory(\n",
        "    valid_path, target_size=IMG_SIZE, batch_size=BATCH_SIZE, class_mode='categorical'\n",
        ")\n",
        "\n",
        "test_data = val_test_datagen.flow_from_directory(\n",
        "    test_path, target_size=IMG_SIZE, batch_size=BATCH_SIZE, class_mode='categorical', shuffle=False\n",
        ")"
      ],
      "metadata": {
        "colab": {
          "base_uri": "https://localhost:8080/"
        },
        "id": "iAiWrUyWsRrJ",
        "outputId": "23d2b812-962b-4b92-b57e-cc4b0fc68c46"
      },
      "execution_count": null,
      "outputs": [
        {
          "output_type": "stream",
          "name": "stdout",
          "text": [
            "Found 1705 images belonging to 4 classes.\n",
            "Found 502 images belonging to 4 classes.\n",
            "Found 246 images belonging to 4 classes.\n"
          ]
        }
      ]
    },
    {
      "cell_type": "markdown",
      "source": [
        "## **✅ Step 3: Load MobileNetV2 Base Model**"
      ],
      "metadata": {
        "id": "3c9677q54QsV"
      }
    },
    {
      "cell_type": "code",
      "source": [
        "base_model = MobileNetV2(weights='imagenet', include_top=False, input_shape=(224, 224, 3))\n",
        "base_model.trainable = False  # Freeze base layers"
      ],
      "metadata": {
        "colab": {
          "base_uri": "https://localhost:8080/"
        },
        "id": "NUgWnFvjsRpf",
        "outputId": "6731ad99-cef1-4a2e-e21c-7c3db9269717"
      },
      "execution_count": null,
      "outputs": [
        {
          "output_type": "stream",
          "name": "stdout",
          "text": [
            "Downloading data from https://storage.googleapis.com/tensorflow/keras-applications/mobilenet_v2/mobilenet_v2_weights_tf_dim_ordering_tf_kernels_1.0_224_no_top.h5\n",
            "\u001b[1m9406464/9406464\u001b[0m \u001b[32m━━━━━━━━━━━━━━━━━━━━\u001b[0m\u001b[37m\u001b[0m \u001b[1m0s\u001b[0m 0us/step\n"
          ]
        }
      ]
    },
    {
      "cell_type": "markdown",
      "source": [
        "## **✅ Step 4: Add Custom Classification Layers**"
      ],
      "metadata": {
        "id": "30P8VulC4Zy-"
      }
    },
    {
      "cell_type": "code",
      "source": [
        "x = base_model.output\n",
        "x = GlobalAveragePooling2D()(x)\n",
        "x = Dropout(0.3)(x)\n",
        "x = Dense(128, activation='relu')(x)\n",
        "x = Dropout(0.2)(x)\n",
        "predictions = Dense(4, activation='softmax')(x)  # 4 classes\n",
        "\n",
        "model = Model(inputs=base_model.input, outputs=predictions)"
      ],
      "metadata": {
        "id": "qyHGfucasRl0"
      },
      "execution_count": null,
      "outputs": []
    },
    {
      "cell_type": "markdown",
      "source": [
        "## **✅ Step 5: Compile and Train (Initial Phase)**"
      ],
      "metadata": {
        "id": "sLG9wZRj4i0w"
      }
    },
    {
      "cell_type": "code",
      "source": [
        "model.compile(optimizer='adam',\n",
        "              loss='categorical_crossentropy',\n",
        "              metrics=['accuracy'])\n",
        "\n",
        "early_stop = EarlyStopping(monitor='val_loss', patience=5, restore_best_weights=True)\n",
        "checkpoint = ModelCheckpoint(\"mobilenetv2_best.h5\", monitor='val_accuracy', save_best_only=True)"
      ],
      "metadata": {
        "id": "vWTopS3nsRic"
      },
      "execution_count": null,
      "outputs": []
    },
    {
      "cell_type": "code",
      "source": [
        "history = model.fit(train_data,\n",
        "                    validation_data=val_data,\n",
        "                    epochs=10,\n",
        "                    callbacks=[early_stop, checkpoint])"
      ],
      "metadata": {
        "colab": {
          "base_uri": "https://localhost:8080/"
        },
        "id": "fq34DPlYsRgZ",
        "outputId": "7c93a49f-02b4-4436-ed3f-1df813700dab"
      },
      "execution_count": null,
      "outputs": [
        {
          "output_type": "stream",
          "name": "stderr",
          "text": [
            "/usr/local/lib/python3.11/dist-packages/keras/src/trainers/data_adapters/py_dataset_adapter.py:121: UserWarning: Your `PyDataset` class should call `super().__init__(**kwargs)` in its constructor. `**kwargs` can include `workers`, `use_multiprocessing`, `max_queue_size`. Do not pass these arguments to `fit()`, as they will be ignored.\n",
            "  self._warn_if_super_not_called()\n"
          ]
        },
        {
          "output_type": "stream",
          "name": "stdout",
          "text": [
            "Epoch 1/10\n",
            "\u001b[1m54/54\u001b[0m \u001b[32m━━━━━━━━━━━━━━━━━━━━\u001b[0m\u001b[37m\u001b[0m \u001b[1m0s\u001b[0m 611ms/step - accuracy: 0.5664 - loss: 1.0949"
          ]
        },
        {
          "output_type": "stream",
          "name": "stderr",
          "text": [
            "/usr/local/lib/python3.11/dist-packages/keras/src/trainers/data_adapters/py_dataset_adapter.py:121: UserWarning: Your `PyDataset` class should call `super().__init__(**kwargs)` in its constructor. `**kwargs` can include `workers`, `use_multiprocessing`, `max_queue_size`. Do not pass these arguments to `fit()`, as they will be ignored.\n",
            "  self._warn_if_super_not_called()\n",
            "WARNING:absl:You are saving your model as an HDF5 file via `model.save()` or `keras.saving.save_model(model)`. This file format is considered legacy. We recommend using instead the native Keras format, e.g. `model.save('my_model.keras')` or `keras.saving.save_model(model, 'my_model.keras')`. \n"
          ]
        },
        {
          "output_type": "stream",
          "name": "stdout",
          "text": [
            "\b\b\b\b\b\b\b\b\b\b\b\b\b\b\b\b\b\b\b\b\b\b\b\b\b\b\b\b\b\b\b\b\b\b\b\b\b\b\b\b\b\b\b\b\b\b\b\b\b\b\b\b\b\b\b\b\b\b\b\b\b\b\b\b\b\b\b\b\b\b\b\b\b\b\r\u001b[1m54/54\u001b[0m \u001b[32m━━━━━━━━━━━━━━━━━━━━\u001b[0m\u001b[37m\u001b[0m \u001b[1m54s\u001b[0m 809ms/step - accuracy: 0.5685 - loss: 1.0894 - val_accuracy: 0.7151 - val_loss: 0.7961\n",
            "Epoch 2/10\n",
            "\u001b[1m54/54\u001b[0m \u001b[32m━━━━━━━━━━━━━━━━━━━━\u001b[0m\u001b[37m\u001b[0m \u001b[1m0s\u001b[0m 507ms/step - accuracy: 0.8167 - loss: 0.4901"
          ]
        },
        {
          "output_type": "stream",
          "name": "stderr",
          "text": [
            "WARNING:absl:You are saving your model as an HDF5 file via `model.save()` or `keras.saving.save_model(model)`. This file format is considered legacy. We recommend using instead the native Keras format, e.g. `model.save('my_model.keras')` or `keras.saving.save_model(model, 'my_model.keras')`. \n"
          ]
        },
        {
          "output_type": "stream",
          "name": "stdout",
          "text": [
            "\b\b\b\b\b\b\b\b\b\b\b\b\b\b\b\b\b\b\b\b\b\b\b\b\b\b\b\b\b\b\b\b\b\b\b\b\b\b\b\b\b\b\b\b\b\b\b\b\b\b\b\b\b\b\b\b\b\b\b\b\b\b\b\b\b\b\b\b\b\b\b\b\b\b\r\u001b[1m54/54\u001b[0m \u001b[32m━━━━━━━━━━━━━━━━━━━━\u001b[0m\u001b[37m\u001b[0m \u001b[1m30s\u001b[0m 559ms/step - accuracy: 0.8166 - loss: 0.4899 - val_accuracy: 0.8386 - val_loss: 0.4402\n",
            "Epoch 3/10\n",
            "\u001b[1m54/54\u001b[0m \u001b[32m━━━━━━━━━━━━━━━━━━━━\u001b[0m\u001b[37m\u001b[0m \u001b[1m30s\u001b[0m 553ms/step - accuracy: 0.8417 - loss: 0.4262 - val_accuracy: 0.7968 - val_loss: 0.5897\n",
            "Epoch 4/10\n",
            "\u001b[1m54/54\u001b[0m \u001b[32m━━━━━━━━━━━━━━━━━━━━\u001b[0m\u001b[37m\u001b[0m \u001b[1m34s\u001b[0m 633ms/step - accuracy: 0.8571 - loss: 0.3773 - val_accuracy: 0.8287 - val_loss: 0.4695\n",
            "Epoch 5/10\n",
            "\u001b[1m54/54\u001b[0m \u001b[32m━━━━━━━━━━━━━━━━━━━━\u001b[0m\u001b[37m\u001b[0m \u001b[1m30s\u001b[0m 555ms/step - accuracy: 0.8424 - loss: 0.4064 - val_accuracy: 0.8068 - val_loss: 0.5366\n",
            "Epoch 6/10\n",
            "\u001b[1m54/54\u001b[0m \u001b[32m━━━━━━━━━━━━━━━━━━━━\u001b[0m\u001b[37m\u001b[0m \u001b[1m30s\u001b[0m 550ms/step - accuracy: 0.8765 - loss: 0.3455 - val_accuracy: 0.8127 - val_loss: 0.4816\n",
            "Epoch 7/10\n",
            "\u001b[1m54/54\u001b[0m \u001b[32m━━━━━━━━━━━━━━━━━━━━\u001b[0m\u001b[37m\u001b[0m \u001b[1m0s\u001b[0m 501ms/step - accuracy: 0.8690 - loss: 0.3449"
          ]
        },
        {
          "output_type": "stream",
          "name": "stderr",
          "text": [
            "WARNING:absl:You are saving your model as an HDF5 file via `model.save()` or `keras.saving.save_model(model)`. This file format is considered legacy. We recommend using instead the native Keras format, e.g. `model.save('my_model.keras')` or `keras.saving.save_model(model, 'my_model.keras')`. \n"
          ]
        },
        {
          "output_type": "stream",
          "name": "stdout",
          "text": [
            "\b\b\b\b\b\b\b\b\b\b\b\b\b\b\b\b\b\b\b\b\b\b\b\b\b\b\b\b\b\b\b\b\b\b\b\b\b\b\b\b\b\b\b\b\b\b\b\b\b\b\b\b\b\b\b\b\b\b\b\b\b\b\b\b\b\b\b\b\b\b\b\b\b\b\r\u001b[1m54/54\u001b[0m \u001b[32m━━━━━━━━━━━━━━━━━━━━\u001b[0m\u001b[37m\u001b[0m \u001b[1m30s\u001b[0m 560ms/step - accuracy: 0.8692 - loss: 0.3447 - val_accuracy: 0.8506 - val_loss: 0.4182\n",
            "Epoch 8/10\n",
            "\u001b[1m54/54\u001b[0m \u001b[32m━━━━━━━━━━━━━━━━━━━━\u001b[0m\u001b[37m\u001b[0m \u001b[1m41s\u001b[0m 565ms/step - accuracy: 0.8782 - loss: 0.3286 - val_accuracy: 0.8446 - val_loss: 0.4006\n",
            "Epoch 9/10\n",
            "\u001b[1m54/54\u001b[0m \u001b[32m━━━━━━━━━━━━━━━━━━━━\u001b[0m\u001b[37m\u001b[0m \u001b[1m31s\u001b[0m 572ms/step - accuracy: 0.8975 - loss: 0.2882 - val_accuracy: 0.8327 - val_loss: 0.4576\n",
            "Epoch 10/10\n",
            "\u001b[1m54/54\u001b[0m \u001b[32m━━━━━━━━━━━━━━━━━━━━\u001b[0m\u001b[37m\u001b[0m \u001b[1m30s\u001b[0m 549ms/step - accuracy: 0.8710 - loss: 0.3217 - val_accuracy: 0.8406 - val_loss: 0.4589\n"
          ]
        }
      ]
    },
    {
      "cell_type": "markdown",
      "source": [
        "## **✅ Step 6: Fine-Tune Top Layers (Optional Boost)**"
      ],
      "metadata": {
        "id": "HgLF7QIY6Cuj"
      }
    },
    {
      "cell_type": "code",
      "source": [
        "# Unfreeze last few layers of base model\n",
        "base_model.trainable = True\n",
        "\n",
        "# Re-compile with a lower learning rate\n",
        "model.compile(optimizer=tf.keras.optimizers.Adam(1e-5),\n",
        "              loss='categorical_crossentropy',\n",
        "              metrics=['accuracy'])\n",
        "\n",
        "# Continue training\n",
        "fine_tune_history = model.fit(train_data,\n",
        "                              validation_data=val_data,\n",
        "                              epochs=10,\n",
        "                              callbacks=[early_stop])"
      ],
      "metadata": {
        "colab": {
          "base_uri": "https://localhost:8080/"
        },
        "id": "fB7x0WxosRej",
        "outputId": "7cf9111a-4a5a-4b1b-e7c4-78bc008fd399"
      },
      "execution_count": null,
      "outputs": [
        {
          "output_type": "stream",
          "name": "stdout",
          "text": [
            "Epoch 1/10\n",
            "\u001b[1m54/54\u001b[0m \u001b[32m━━━━━━━━━━━━━━━━━━━━\u001b[0m\u001b[37m\u001b[0m \u001b[1m103s\u001b[0m 1s/step - accuracy: 0.4377 - loss: 1.9014 - val_accuracy: 0.8247 - val_loss: 0.4612\n",
            "Epoch 2/10\n",
            "\u001b[1m54/54\u001b[0m \u001b[32m━━━━━━━━━━━━━━━━━━━━\u001b[0m\u001b[37m\u001b[0m \u001b[1m31s\u001b[0m 580ms/step - accuracy: 0.6994 - loss: 0.7912 - val_accuracy: 0.7988 - val_loss: 0.5223\n",
            "Epoch 3/10\n",
            "\u001b[1m54/54\u001b[0m \u001b[32m━━━━━━━━━━━━━━━━━━━━\u001b[0m\u001b[37m\u001b[0m \u001b[1m32s\u001b[0m 591ms/step - accuracy: 0.8230 - loss: 0.5059 - val_accuracy: 0.8088 - val_loss: 0.5140\n",
            "Epoch 4/10\n",
            "\u001b[1m54/54\u001b[0m \u001b[32m━━━━━━━━━━━━━━━━━━━━\u001b[0m\u001b[37m\u001b[0m \u001b[1m31s\u001b[0m 569ms/step - accuracy: 0.8403 - loss: 0.4466 - val_accuracy: 0.8207 - val_loss: 0.4927\n",
            "Epoch 5/10\n",
            "\u001b[1m54/54\u001b[0m \u001b[32m━━━━━━━━━━━━━━━━━━━━\u001b[0m\u001b[37m\u001b[0m \u001b[1m33s\u001b[0m 597ms/step - accuracy: 0.8458 - loss: 0.4057 - val_accuracy: 0.8127 - val_loss: 0.5097\n",
            "Epoch 6/10\n",
            "\u001b[1m54/54\u001b[0m \u001b[32m━━━━━━━━━━━━━━━━━━━━\u001b[0m\u001b[37m\u001b[0m \u001b[1m31s\u001b[0m 572ms/step - accuracy: 0.8547 - loss: 0.3965 - val_accuracy: 0.8127 - val_loss: 0.5304\n"
          ]
        }
      ]
    },
    {
      "cell_type": "markdown",
      "source": [
        "## **✅ Step 7: Evaluate on Test Data**"
      ],
      "metadata": {
        "id": "akq0VTXV7S_1"
      }
    },
    {
      "cell_type": "code",
      "source": [
        "test_loss, test_acc = model.evaluate(test_data)\n",
        "print(f\"MobileNetV2 Test Accuracy: {test_acc:.4f}\")"
      ],
      "metadata": {
        "colab": {
          "base_uri": "https://localhost:8080/"
        },
        "id": "ZdmEEAKQsRcx",
        "outputId": "484fe86e-ad79-4bd0-9e51-71adb645911e"
      },
      "execution_count": null,
      "outputs": [
        {
          "output_type": "stream",
          "name": "stderr",
          "text": [
            "/usr/local/lib/python3.11/dist-packages/keras/src/trainers/data_adapters/py_dataset_adapter.py:121: UserWarning: Your `PyDataset` class should call `super().__init__(**kwargs)` in its constructor. `**kwargs` can include `workers`, `use_multiprocessing`, `max_queue_size`. Do not pass these arguments to `fit()`, as they will be ignored.\n",
            "  self._warn_if_super_not_called()\n"
          ]
        },
        {
          "output_type": "stream",
          "name": "stdout",
          "text": [
            "\u001b[1m8/8\u001b[0m \u001b[32m━━━━━━━━━━━━━━━━━━━━\u001b[0m\u001b[37m\u001b[0m \u001b[1m2s\u001b[0m 184ms/step - accuracy: 0.8438 - loss: 0.4445\n",
            "MobileNetV2 Test Accuracy: 0.7967\n"
          ]
        }
      ]
    },
    {
      "cell_type": "markdown",
      "source": [
        "## **✅ Step 8: Save Model**"
      ],
      "metadata": {
        "id": "RsLYSERD8JP_"
      }
    },
    {
      "cell_type": "code",
      "source": [
        "model.save(\"/content/drive/MyDrive/Project 5/mobilenetv2_final.h5\")"
      ],
      "metadata": {
        "colab": {
          "base_uri": "https://localhost:8080/"
        },
        "id": "FrtCUG5RsRa3",
        "outputId": "47b77450-9c8d-4cce-907a-7eef0893b3f5"
      },
      "execution_count": null,
      "outputs": [
        {
          "output_type": "stream",
          "name": "stderr",
          "text": [
            "WARNING:absl:You are saving your model as an HDF5 file via `model.save()` or `keras.saving.save_model(model)`. This file format is considered legacy. We recommend using instead the native Keras format, e.g. `model.save('my_model.keras')` or `keras.saving.save_model(model, 'my_model.keras')`. \n"
          ]
        }
      ]
    },
    {
      "cell_type": "markdown",
      "source": [
        "## **✅ Step 9: Classification Report & Confusion Matrix**\n"
      ],
      "metadata": {
        "id": "GgDrEUqt8Vvg"
      }
    },
    {
      "cell_type": "code",
      "source": [
        "from sklearn.metrics import classification_report, confusion_matrix\n",
        "import numpy as np\n",
        "import seaborn as sns\n",
        "import matplotlib.pyplot as plt\n",
        "\n",
        "# Predict\n",
        "y_pred = model.predict(test_data)\n",
        "y_pred_classes = np.argmax(y_pred, axis=1)\n",
        "y_true = test_data.classes\n",
        "class_labels = list(test_data.class_indices.keys())\n",
        "\n",
        "# Report\n",
        "print(classification_report(y_true, y_pred_classes, target_names=class_labels))\n",
        "\n",
        "# Confusion matrix\n",
        "cm = confusion_matrix(y_true, y_pred_classes)\n",
        "plt.figure(figsize=(8,6))\n",
        "sns.heatmap(cm, annot=True, fmt='d', xticklabels=class_labels, yticklabels=class_labels, cmap='Blues')\n",
        "plt.xlabel('Predicted')\n",
        "plt.ylabel('True')\n",
        "plt.title('Confusion Matrix')\n",
        "plt.show()\n"
      ],
      "metadata": {
        "colab": {
          "base_uri": "https://localhost:8080/",
          "height": 783
        },
        "id": "NOlRgG7RsRXN",
        "outputId": "39f1f573-13a7-407e-df7a-a68c86ae40ff"
      },
      "execution_count": null,
      "outputs": [
        {
          "output_type": "stream",
          "name": "stdout",
          "text": [
            "\u001b[1m8/8\u001b[0m \u001b[32m━━━━━━━━━━━━━━━━━━━━\u001b[0m\u001b[37m\u001b[0m \u001b[1m8s\u001b[0m 640ms/step\n",
            "              precision    recall  f1-score   support\n",
            "\n",
            "      glioma       0.73      1.00      0.84        80\n",
            "  meningioma       0.84      0.41      0.55        63\n",
            "    no_tumor       0.91      0.82      0.86        49\n",
            "   pituitary       0.82      0.93      0.87        54\n",
            "\n",
            "    accuracy                           0.80       246\n",
            "   macro avg       0.82      0.79      0.78       246\n",
            "weighted avg       0.81      0.80      0.78       246\n",
            "\n"
          ]
        },
        {
          "output_type": "display_data",
          "data": {
            "text/plain": [
              "<Figure size 800x600 with 2 Axes>"
            ],
            "image/png": "[encoded data removed]"
          },
          "metadata": {}
        }
      ]
    },
    {
      "cell_type": "markdown",
      "source": [
        "# **✅ 5. 📊 Model Comparison Report**"
      ],
      "metadata": {
        "id": "b2l8WCh-8_LZ"
      }
    },
    {
      "cell_type": "markdown",
      "source": [
        "| Metric               | Custom CNN | MobileNetV2 (Transfer Learning) |\n",
        "| -------------------- | ---------- | ------------------------------- |\n",
        "| **Test Accuracy**    | 52% ❌     | **80% ✅**                       |\n",
        "| **Glioma F1-Score**  | 0.77       | 0.84                            |\n",
        "| **Meningioma F1**    | 0.00 ❌     | 0.55 ✅                          |\n",
        "| **No Tumor F1**      | 0.00 ❌     | 0.86 ✅                          |\n",
        "| **Pituitary F1**     | 0.56       | 0.87 ✅                          |\n",
        "| **Macro Avg F1**     | 0.33 ❌     | **0.78 ✅**                      |\n",
        "| **Model Size**       | Small      | Medium (with pretrained layers) |\n",
        "| **Training Time**    | Low        | Moderate                        |\n",
        "| **Generalization**   | Poor       | Strong ✅                        |\n",
        "| **Deployment Ready** | ❌ No       | ✅ Yes                           |\n"
      ],
      "metadata": {
        "id": "aHTsG5z3_ph9"
      }
    },
    {
      "cell_type": "markdown",
      "source": [
        "## Key Insights :\n",
        "\n",
        "MobileNetV2 outperforms Custom CNN on every class, especially the two weakest (meningioma and no_tumor).\n",
        "\n",
        "Custom CNN overfit training data and couldn't generalize well.\n",
        "\n",
        "Transfer learning provided powerful feature extraction from pretrained ImageNet weights, leading to robust performance.\n",
        "\n",
        "MobileNetV2 is suitable for real-world deployment via Streamlit."
      ],
      "metadata": {
        "id": "PJxWOzNAAApW"
      }
    },
    {
      "cell_type": "markdown",
      "source": [
        "# **✅ 6. Streamlit**"
      ],
      "metadata": {
        "id": "UH6KTfrbBFZh"
      }
    },
    {
      "cell_type": "code",
      "source": [
        "pip install streamlit\n"
      ],
      "metadata": {
        "colab": {
          "base_uri": "https://localhost:8080/"
        },
        "id": "hpZiXj5gsRLd",
        "outputId": "cc452217-518b-4cf6-d464-752cfb580d30"
      },
      "execution_count": null,
      "outputs": [
        {
          "output_type": "stream",
          "name": "stdout",
          "text": [
            "Collecting streamlit\n",
            "  Downloading streamlit-1.46.1-py3-none-any.whl.metadata (9.0 kB)\n",
            "Requirement already satisfied: altair<6,>=4.0 in /usr/local/lib/python3.11/dist-packages (from streamlit) (5.5.0)\n",
            "Requirement already satisfied: blinker<2,>=1.5.0 in /usr/local/lib/python3.11/dist-packages (from streamlit) (1.9.0)\n",
            "Requirement already satisfied: cachetools<7,>=4.0 in /usr/local/lib/python3.11/dist-packages (from streamlit) (5.5.2)\n",
            "Requirement already satisfied: click<9,>=7.0 in /usr/local/lib/python3.11/dist-packages (from streamlit) (8.2.1)\n",
            "Requirement already satisfied: numpy<3,>=1.23 in /usr/local/lib/python3.11/dist-packages (from streamlit) (2.0.2)\n",
            "Requirement already satisfied: packaging<26,>=20 in /usr/local/lib/python3.11/dist-packages (from streamlit) (24.2)\n",
            "Requirement already satisfied: pandas<3,>=1.4.0 in /usr/local/lib/python3.11/dist-packages (from streamlit) (2.2.2)\n",
            "Requirement already satisfied: pillow<12,>=7.1.0 in /usr/local/lib/python3.11/dist-packages (from streamlit) (11.2.1)\n",
            "Requirement already satisfied: protobuf<7,>=3.20 in /usr/local/lib/python3.11/dist-packages (from streamlit) (5.29.5)\n",
            "Requirement already satisfied: pyarrow>=7.0 in /usr/local/lib/python3.11/dist-packages (from streamlit) (18.1.0)\n",
            "Requirement already satisfied: requests<3,>=2.27 in /usr/local/lib/python3.11/dist-packages (from streamlit) (2.32.3)\n",
            "Requirement already satisfied: tenacity<10,>=8.1.0 in /usr/local/lib/python3.11/dist-packages (from streamlit) (8.5.0)\n",
            "Requirement already satisfied: toml<2,>=0.10.1 in /usr/local/lib/python3.11/dist-packages (from streamlit) (0.10.2)\n",
            "Requirement already satisfied: typing-extensions<5,>=4.4.0 in /usr/local/lib/python3.11/dist-packages (from streamlit) (4.14.0)\n",
            "Collecting watchdog<7,>=2.1.5 (from streamlit)\n",
            "  Downloading watchdog-6.0.0-py3-none-manylinux2014_x86_64.whl.metadata (44 kB)\n",
            "\u001b[2K     \u001b[90m━━━━━━━━━━━━━━━━━━━━━━━━━━━━━━━━━━━━━━━━\u001b[0m \u001b[32m44.3/44.3 kB\u001b[0m \u001b[31m3.0 MB/s\u001b[0m eta \u001b[36m0:00:00\u001b[0m\n",
            "\u001b[?25hRequirement already satisfied: gitpython!=3.1.19,<4,>=3.0.7 in /usr/local/lib/python3.11/dist-packages (from streamlit) (3.1.44)\n",
            "Collecting pydeck<1,>=0.8.0b4 (from streamlit)\n",
            "  Downloading pydeck-0.9.1-py2.py3-none-any.whl.metadata (4.1 kB)\n",
            "Requirement already satisfied: tornado!=6.5.0,<7,>=6.0.3 in /usr/local/lib/python3.11/dist-packages (from streamlit) (6.4.2)\n",
            "Requirement already satisfied: jinja2 in /usr/local/lib/python3.11/dist-packages (from altair<6,>=4.0->streamlit) (3.1.6)\n",
            "Requirement already satisfied: jsonschema>=3.0 in /usr/local/lib/python3.11/dist-packages (from altair<6,>=4.0->streamlit) (4.24.0)\n",
            "Requirement already satisfied: narwhals>=1.14.2 in /usr/local/lib/python3.11/dist-packages (from altair<6,>=4.0->streamlit) (1.44.0)\n",
            "Requirement already satisfied: gitdb<5,>=4.0.1 in /usr/local/lib/python3.11/dist-packages (from gitpython!=3.1.19,<4,>=3.0.7->streamlit) (4.0.12)\n",
            "Requirement already satisfied: python-dateutil>=2.8.2 in /usr/local/lib/python3.11/dist-packages (from pandas<3,>=1.4.0->streamlit) (2.9.0.post0)\n",
            "Requirement already satisfied: pytz>=2020.1 in /usr/local/lib/python3.11/dist-packages (from pandas<3,>=1.4.0->streamlit) (2025.2)\n",
            "Requirement already satisfied: tzdata>=2022.7 in /usr/local/lib/python3.11/dist-packages (from pandas<3,>=1.4.0->streamlit) (2025.2)\n",
            "Requirement already satisfied: charset-normalizer<4,>=2 in /usr/local/lib/python3.11/dist-packages (from requests<3,>=2.27->streamlit) (3.4.2)\n",
            "Requirement already satisfied: idna<4,>=2.5 in /usr/local/lib/python3.11/dist-packages (from requests<3,>=2.27->streamlit) (3.10)\n",
            "Requirement already satisfied: urllib3<3,>=1.21.1 in /usr/local/lib/python3.11/dist-packages (from requests<3,>=2.27->streamlit) (2.4.0)\n",
            "Requirement already satisfied: certifi>=2017.4.17 in /usr/local/lib/python3.11/dist-packages (from requests<3,>=2.27->streamlit) (2025.6.15)\n",
            "Requirement already satisfied: smmap<6,>=3.0.1 in /usr/local/lib/python3.11/dist-packages (from gitdb<5,>=4.0.1->gitpython!=3.1.19,<4,>=3.0.7->streamlit) (5.0.2)\n",
            "Requirement already satisfied: MarkupSafe>=2.0 in /usr/local/lib/python3.11/dist-packages (from jinja2->altair<6,>=4.0->streamlit) (3.0.2)\n",
            "Requirement already satisfied: attrs>=22.2.0 in /usr/local/lib/python3.11/dist-packages (from jsonschema>=3.0->altair<6,>=4.0->streamlit) (25.3.0)\n",
            "Requirement already satisfied: jsonschema-specifications>=2023.03.6 in /usr/local/lib/python3.11/dist-packages (from jsonschema>=3.0->altair<6,>=4.0->streamlit) (2025.4.1)\n",
            "Requirement already satisfied: referencing>=0.28.4 in /usr/local/lib/python3.11/dist-packages (from jsonschema>=3.0->altair<6,>=4.0->streamlit) (0.36.2)\n",
            "Requirement already satisfied: rpds-py>=0.7.1 in /usr/local/lib/python3.11/dist-packages (from jsonschema>=3.0->altair<6,>=4.0->streamlit) (0.25.1)\n",
            "Requirement already satisfied: six>=1.5 in /usr/local/lib/python3.11/dist-packages (from python-dateutil>=2.8.2->pandas<3,>=1.4.0->streamlit) (1.17.0)\n",
            "Downloading streamlit-1.46.1-py3-none-any.whl (10.1 MB)\n",
            "\u001b[2K   \u001b[90m━━━━━━━━━━━━━━━━━━━━━━━━━━━━━━━━━━━━━━━━\u001b[0m \u001b[32m10.1/10.1 MB\u001b[0m \u001b[31m95.2 MB/s\u001b[0m eta \u001b[36m0:00:00\u001b[0m\n",
            "\u001b[?25hDownloading pydeck-0.9.1-py2.py3-none-any.whl (6.9 MB)\n",
            "\u001b[2K   \u001b[90m━━━━━━━━━━━━━━━━━━━━━━━━━━━━━━━━━━━━━━━━\u001b[0m \u001b[32m6.9/6.9 MB\u001b[0m \u001b[31m134.3 MB/s\u001b[0m eta \u001b[36m0:00:00\u001b[0m\n",
            "\u001b[?25hDownloading watchdog-6.0.0-py3-none-manylinux2014_x86_64.whl (79 kB)\n",
            "\u001b[2K   \u001b[90m━━━━━━━━━━━━━━━━━━━━━━━━━━━━━━━━━━━━━━━━\u001b[0m \u001b[32m79.1/79.1 kB\u001b[0m \u001b[31m7.6 MB/s\u001b[0m eta \u001b[36m0:00:00\u001b[0m\n",
            "\u001b[?25hInstalling collected packages: watchdog, pydeck, streamlit\n",
            "Successfully installed pydeck-0.9.1 streamlit-1.46.1 watchdog-6.0.0\n"
          ]
        }
      ]
    },
    {
      "cell_type": "code",
      "source": [
        "model.save(\"/content/drive/MyDrive/Project 5/mobilenetv2_final.h5\")\n"
      ],
      "metadata": {
        "colab": {
          "base_uri": "https://localhost:8080/"
        },
        "id": "EBjA5hYDCwCw",
        "outputId": "9ad57d08-75a1-4bb4-a69d-d3cb6b9ac8bc"
      },
      "execution_count": null,
      "outputs": [
        {
          "output_type": "stream",
          "name": "stderr",
          "text": [
            "WARNING:absl:You are saving your model as an HDF5 file via `model.save()` or `keras.saving.save_model(model)`. This file format is considered legacy. We recommend using instead the native Keras format, e.g. `model.save('my_model.keras')` or `keras.saving.save_model(model, 'my_model.keras')`. \n",
            "WARNING:absl:You are saving your model as an HDF5 file via `model.save()` or `keras.saving.save_model(model)`. This file format is considered legacy. We recommend using instead the native Keras format, e.g. `model.save('my_model.keras')` or `keras.saving.save_model(model, 'my_model.keras')`. \n"
          ]
        }
      ]
    },
    {
      "cell_type": "code",
      "source": [
        "from google.colab import files\n",
        "files.download(\"/content/drive/MyDrive/Project 5/mobilenetv2_final.h5\")"
      ],
      "metadata": {
        "colab": {
          "base_uri": "https://localhost:8080/",
          "height": 17
        },
        "id": "FnK3Yo1LCwAK",
        "outputId": "7990674c-a8b4-4bce-f2d0-904d143407d3"
      },
      "execution_count": null,
      "outputs": [
        {
          "output_type": "display_data",
          "data": {
            "text/plain": [
              "<IPython.core.display.Javascript object>"
            ],
            "application/javascript": [
              "\n",
              "    async function download(id, filename, size) {\n",
              "      if (!google.colab.kernel.accessAllowed) {\n",
              "        return;\n",
              "      }\n",
              "      const div = document.createElement('div');\n",
              "      const label = document.createElement('label');\n",
              "      label.textContent = `Downloading \"${filename}\": `;\n",
              "      div.appendChild(label);\n",
              "      const progress = document.createElement('progress');\n",
              "      progress.max = size;\n",
              "      div.appendChild(progress);\n",
              "      document.body.appendChild(div);\n",
              "\n",
              "      const buffers = [];\n",
              "      let downloaded = 0;\n",
              "\n",
              "      const channel = await google.colab.kernel.comms.open(id);\n",
              "      // Send a message to notify the kernel that we're ready.\n",
              "      channel.send({})\n",
              "\n",
              "      for await (const message of channel.messages) {\n",
              "        // Send a message to notify the kernel that we're ready.\n",
              "        channel.send({})\n",
              "        if (message.buffers) {\n",
              "          for (const buffer of message.buffers) {\n",
              "            buffers.push(buffer);\n",
              "            downloaded += buffer.byteLength;\n",
              "            progress.value = downloaded;\n",
              "          }\n",
              "        }\n",
              "      }\n",
              "      const blob = new Blob(buffers, {type: 'application/binary'});\n",
              "      const a = document.createElement('a');\n",
              "      a.href = window.URL.createObjectURL(blob);\n",
              "      a.download = filename;\n",
              "      div.appendChild(a);\n",
              "      a.click();\n",
              "      div.remove();\n",
              "    }\n",
              "  "
            ]
          },
          "metadata": {}
        },
        {
          "output_type": "display_data",
          "data": {
            "text/plain": [
              "<IPython.core.display.Javascript object>"
            ],
            "application/javascript": [
              "download(\"download_ea0e174b-0854-4341-b8e8-e2126342ce16\", \"mobilenetv2_final.h5\", 29511304)"
            ]
          },
          "metadata": {}
        }
      ]
    },
    {
      "cell_type": "code",
      "source": [
        "model = tf.keras.models.load_model(\"/content/mobilenetv2_best.h5\")"
      ],
      "metadata": {
        "colab": {
          "base_uri": "https://localhost:8080/"
        },
        "id": "VnHP4sBQCwfb",
        "outputId": "f0414fb0-b7e2-4672-a2cd-077001c6773d"
      },
      "execution_count": null,
      "outputs": [
        {
          "output_type": "stream",
          "name": "stderr",
          "text": [
            "WARNING:absl:Compiled the loaded model, but the compiled metrics have yet to be built. `model.compile_metrics` will be empty until you train or evaluate the model.\n"
          ]
        }
      ]
    },
    {
      "cell_type": "code",
      "source": [
        "import streamlit as st\n",
        "import tensorflow as tf\n",
        "import numpy as np\n",
        "from PIL import Image\n",
        "\n",
        "import base64\n",
        "# Function to load and encode local jpg image\n",
        "def get_base64_of_bin_file(bin_file):\n",
        "    with open(bin_file, 'rb') as f:\n",
        "        data = f.read()\n",
        "    return base64.b64encode(data).decode()\n",
        "\n",
        "# Local image filename (same folder)\n",
        "image_file = 'aaa.jpg'\n",
        "\n",
        "# Get base64 string\n",
        "img_base64 = get_base64_of_bin_file(image_file)\n",
        "\n",
        "# Inject HTML + CSS for background\n",
        "page_bg_img = f\"\"\"\n",
        "<style>\n",
        ".stApp {{\n",
        "  background-image: url(\"data:image/jpg;base64,{img_base64}\");\n",
        "  background-size: cover;\n",
        "  background-repeat: no-repeat;\n",
        "  background-attachment: fixed;\n",
        "}}\n",
        "</style>\n",
        "\"\"\"\n",
        "\n",
        "# Load CSS\n",
        "st.markdown(page_bg_img, unsafe_allow_html=True)\n",
        "\n",
        "# Sidebar for navigation\n",
        "st.sidebar.title(\"Navigation\")\n",
        "page = st.sidebar.radio(\"Go to\", [\"Project Introduction\", \"Predicted Tumor Type\", \"Creator Info\"])\n",
        "\n",
        "# -------------------------------- PAGE 1: Introduction --------------------------------\n",
        "if page == \"Project Introduction\":\n",
        "    st.title(\"🧠 Brain Tumor MRI Image Classification  \")\n",
        "    st.write(\"\\n\")\n",
        "    st.write(\"\\n\")\n",
        "    st.write(\"\"\"\n",
        "    ##### This project aims to develop a deep learning-based solution for classifying brain MRI\n",
        "    ##### images into multiple categories according to tumor type. It involves building a custom\n",
        "    ##### CNN model from scratch and enhancing performance through transfer learning using\n",
        "    ##### pretrained models. The project also includes deploying a user-friendly Streamlit web\n",
        "    ##### application to enable real-time tumor type predictions from uploaded MRI images. \"\"\")\n",
        "    st.write(\"\\n\")\n",
        "    st.write(\"\\n\")\n",
        "\n",
        "    st.markdown(\"\"\"\\n\n",
        "    ### Real-time Business Use Cases:  \\n\n",
        "        ● AI-Assisted Medical Diagnosis \\n\n",
        "        ● Early Detection and Patient Triage \\n\n",
        "        ● Research and Clinical Trials \\n\n",
        "        ● Second-Opinion AI Systems \\n  \"\"\")\n",
        "\n",
        "    st.markdown(\"\"\"\n",
        "     ### Problem Domain: \\n\n",
        "        ● Medical Imaging — Image Classification \"\"\")\n",
        "\n",
        "# -------------------------------- PAGE 2: Predicted Tumor Type --------------------------------\n",
        "elif page == \"Predicted Tumor Type\":\n",
        "\n",
        "    # Load model\n",
        "    model = tf.keras.models.load_model(\"mobilenetv2_final.h5\")\n",
        "\n",
        "    # Class names\n",
        "    class_names = ['glioma', 'meningioma', 'no_tumor', 'pituitary']\n",
        "\n",
        "    st.title(\"🧠 Brain Tumor MRI Classifier\")\n",
        "    st.write(\"Upload an MRI image to classify the tumor type.\")\n",
        "\n",
        "    uploaded_file = st.file_uploader(\"Choose an image\", type=[\"jpg\", \"png\", \"jpeg\"])\n",
        "\n",
        "    if uploaded_file:\n",
        "        image = Image.open(uploaded_file).convert('RGB')\n",
        "        st.image(image, caption='Uploaded Image', use_column_width=True)\n",
        "\n",
        "        # Preprocessing\n",
        "        img = image.resize((224, 224))\n",
        "        img_array = np.array(img) / 255.0\n",
        "        img_array = np.expand_dims(img_array, axis=0)\n",
        "\n",
        "        # Predict\n",
        "        prediction = model.predict(img_array)[0]\n",
        "        predicted_class = class_names[np.argmax(prediction)]\n",
        "        confidence = np.max(prediction)\n",
        "\n",
        "        st.markdown(f\"### 🧠 Tumor Type: **{predicted_class.upper()}**\")\n",
        "        st.markdown(f\"### 📊 Confidence: **{confidence * 100:.2f}%**\")\n",
        "\n",
        "# -------------------------------- PAGE 3: Creator Info --------------------------------\n",
        "\n",
        "elif page == \"Creator Info\":\n",
        "    st.title(\"👨‍💻 Creator of this Project\")\n",
        "    st.write(\"\"\"\n",
        "#    **Developed by:** Sudharsan M S\n",
        "#    **Skills:**\n",
        "## Python,\n",
        "## Deep Learning,\n",
        "## Transfer Learning,\n",
        "## Model Evaluation,\n",
        "## Streamlit\n",
        "    \"\"\")\n",
        "    st.image('saa.jpg', width=150)\n"
      ],
      "metadata": {
        "colab": {
          "base_uri": "https://localhost:8080/"
        },
        "id": "E2w2PuuSsRN5",
        "outputId": "6a6c5299-9f19-4a1b-e7b0-db79a8585f08"
      },
      "execution_count": null,
      "outputs": [
        {
          "output_type": "stream",
          "name": "stderr",
          "text": [
            "WARNING:absl:Compiled the loaded model, but the compiled metrics have yet to be built. `model.compile_metrics` will be empty until you train or evaluate the model.\n",
            "2025-07-02 07:34:16.021 WARNING streamlit.runtime.scriptrunner_utils.script_run_context: Thread 'MainThread': missing ScriptRunContext! This warning can be ignored when running in bare mode.\n",
            "2025-07-02 07:34:16.180 \n",
            "  \u001b[33m\u001b[1mWarning:\u001b[0m to view this Streamlit app on a browser, run it with the following\n",
            "  command:\n",
            "\n",
            "    streamlit run /usr/local/lib/python3.11/dist-packages/colab_kernel_launcher.py [ARGUMENTS]\n",
            "2025-07-02 07:34:16.183 Thread 'MainThread': missing ScriptRunContext! This warning can be ignored when running in bare mode.\n",
            "2025-07-02 07:34:16.184 Thread 'MainThread': missing ScriptRunContext! This warning can be ignored when running in bare mode.\n",
            "2025-07-02 07:34:16.187 Thread 'MainThread': missing ScriptRunContext! This warning can be ignored when running in bare mode.\n",
            "2025-07-02 07:34:16.189 Thread 'MainThread': missing ScriptRunContext! This warning can be ignored when running in bare mode.\n",
            "2025-07-02 07:34:16.192 Thread 'MainThread': missing ScriptRunContext! This warning can be ignored when running in bare mode.\n",
            "2025-07-02 07:34:16.193 Thread 'MainThread': missing ScriptRunContext! This warning can be ignored when running in bare mode.\n",
            "2025-07-02 07:34:16.193 Thread 'MainThread': missing ScriptRunContext! This warning can be ignored when running in bare mode.\n",
            "2025-07-02 07:34:16.193 Thread 'MainThread': missing ScriptRunContext! This warning can be ignored when running in bare mode.\n",
            "2025-07-02 07:34:16.194 Thread 'MainThread': missing ScriptRunContext! This warning can be ignored when running in bare mode.\n",
            "2025-07-02 07:34:16.194 Thread 'MainThread': missing ScriptRunContext! This warning can be ignored when running in bare mode.\n",
            "2025-07-02 07:34:16.198 Thread 'MainThread': missing ScriptRunContext! This warning can be ignored when running in bare mode.\n"
          ]
        }
      ]
    },
    {
      "cell_type": "code",
      "source": [],
      "metadata": {
        "id": "uU89Y91_MPCm"
      },
      "execution_count": null,
      "outputs": []
    }
  ]
}